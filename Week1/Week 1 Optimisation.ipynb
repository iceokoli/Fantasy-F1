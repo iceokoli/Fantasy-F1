{
 "cells": [
  {
   "cell_type": "markdown",
   "metadata": {},
   "source": [
    "# Week 1 Optimisation"
   ]
  },
  {
   "cell_type": "markdown",
   "metadata": {},
   "source": [
    "General Theory: For my team, maximise average points scored last year as well as points scored in that race last year"
   ]
  },
  {
   "cell_type": "code",
   "execution_count": 205,
   "metadata": {},
   "outputs": [],
   "source": [
    "import requests\n",
    "import pandas as pd\n",
    "from pulp import *\n",
    "import re"
   ]
  },
  {
   "cell_type": "markdown",
   "metadata": {},
   "source": [
    "## Get Data"
   ]
  },
  {
   "cell_type": "markdown",
   "metadata": {},
   "source": [
    "Get Cost Data"
   ]
  },
  {
   "cell_type": "code",
   "execution_count": 20,
   "metadata": {},
   "outputs": [],
   "source": [
    "r = requests.get('https://fantasy-api.formula1.com/partner_games/f1/players')"
   ]
  },
  {
   "cell_type": "code",
   "execution_count": 33,
   "metadata": {},
   "outputs": [],
   "source": [
    "cost = pd.DataFrame(r.json()['players'] )\n",
    "cost = cost.set_index('id').reset_index(drop=True)"
   ]
  },
  {
   "cell_type": "code",
   "execution_count": 35,
   "metadata": {},
   "outputs": [
    {
     "data": {
      "text/html": [
       "<div>\n",
       "<style scoped>\n",
       "    .dataframe tbody tr th:only-of-type {\n",
       "        vertical-align: middle;\n",
       "    }\n",
       "\n",
       "    .dataframe tbody tr th {\n",
       "        vertical-align: top;\n",
       "    }\n",
       "\n",
       "    .dataframe thead th {\n",
       "        text-align: right;\n",
       "    }\n",
       "</style>\n",
       "<table border=\"1\" class=\"dataframe\">\n",
       "  <thead>\n",
       "    <tr style=\"text-align: right;\">\n",
       "      <th></th>\n",
       "      <th>first_name</th>\n",
       "      <th>last_name</th>\n",
       "      <th>team_name</th>\n",
       "      <th>position</th>\n",
       "      <th>position_id</th>\n",
       "      <th>position_abbreviation</th>\n",
       "      <th>price</th>\n",
       "      <th>current_price_change_info</th>\n",
       "      <th>status</th>\n",
       "      <th>injured</th>\n",
       "      <th>...</th>\n",
       "      <th>season_score</th>\n",
       "      <th>driver_data</th>\n",
       "      <th>constructor_data</th>\n",
       "      <th>born_at</th>\n",
       "      <th>season_prices</th>\n",
       "      <th>price_change</th>\n",
       "      <th>num_fixtures_in_gameweek</th>\n",
       "      <th>has_fixture</th>\n",
       "      <th>display_name</th>\n",
       "      <th>external_id</th>\n",
       "    </tr>\n",
       "  </thead>\n",
       "  <tbody>\n",
       "    <tr>\n",
       "      <th>0</th>\n",
       "      <td>Scuderia Ferrari Mission Winnow</td>\n",
       "      <td>None</td>\n",
       "      <td>Scuderia Ferrari Mission Winnow</td>\n",
       "      <td>Constructor</td>\n",
       "      <td>2</td>\n",
       "      <td>CR</td>\n",
       "      <td>27.4</td>\n",
       "      <td>None</td>\n",
       "      <td>None</td>\n",
       "      <td>False</td>\n",
       "      <td>...</td>\n",
       "      <td>0</td>\n",
       "      <td>None</td>\n",
       "      <td>{'best_finish': 1, 'best_finish_count': 239, '...</td>\n",
       "      <td>None</td>\n",
       "      <td>None</td>\n",
       "      <td>27.4</td>\n",
       "      <td>2</td>\n",
       "      <td>True</td>\n",
       "      <td>Ferrari</td>\n",
       "      <td>526:59:FER</td>\n",
       "    </tr>\n",
       "    <tr>\n",
       "      <th>1</th>\n",
       "      <td>ROKiT Williams Racing</td>\n",
       "      <td>None</td>\n",
       "      <td>ROKiT Williams Racing</td>\n",
       "      <td>Constructor</td>\n",
       "      <td>2</td>\n",
       "      <td>CR</td>\n",
       "      <td>6.5</td>\n",
       "      <td>None</td>\n",
       "      <td>None</td>\n",
       "      <td>False</td>\n",
       "      <td>...</td>\n",
       "      <td>0</td>\n",
       "      <td>None</td>\n",
       "      <td>{'best_finish': 1, 'best_finish_count': 114, '...</td>\n",
       "      <td>None</td>\n",
       "      <td>None</td>\n",
       "      <td>6.5</td>\n",
       "      <td>2</td>\n",
       "      <td>True</td>\n",
       "      <td>Williams</td>\n",
       "      <td>481:172:WIL</td>\n",
       "    </tr>\n",
       "  </tbody>\n",
       "</table>\n",
       "<p>2 rows × 35 columns</p>\n",
       "</div>"
      ],
      "text/plain": [
       "                        first_name last_name                        team_name  \\\n",
       "0  Scuderia Ferrari Mission Winnow      None  Scuderia Ferrari Mission Winnow   \n",
       "1            ROKiT Williams Racing      None            ROKiT Williams Racing   \n",
       "\n",
       "      position  position_id position_abbreviation  price  \\\n",
       "0  Constructor            2                    CR   27.4   \n",
       "1  Constructor            2                    CR    6.5   \n",
       "\n",
       "  current_price_change_info status  injured  ... season_score  driver_data  \\\n",
       "0                      None   None    False  ...            0         None   \n",
       "1                      None   None    False  ...            0         None   \n",
       "\n",
       "                                    constructor_data  born_at  season_prices  \\\n",
       "0  {'best_finish': 1, 'best_finish_count': 239, '...     None           None   \n",
       "1  {'best_finish': 1, 'best_finish_count': 114, '...     None           None   \n",
       "\n",
       "  price_change  num_fixtures_in_gameweek has_fixture display_name  external_id  \n",
       "0         27.4                         2        True      Ferrari   526:59:FER  \n",
       "1          6.5                         2        True     Williams  481:172:WIL  \n",
       "\n",
       "[2 rows x 35 columns]"
      ]
     },
     "execution_count": 35,
     "metadata": {},
     "output_type": "execute_result"
    }
   ],
   "source": [
    "cost.head(2)"
   ]
  },
  {
   "cell_type": "markdown",
   "metadata": {},
   "source": [
    "Get 2019 fantasy points data and merge with cost data to get final data set for optimisation"
   ]
  },
  {
   "cell_type": "code",
   "execution_count": 49,
   "metadata": {},
   "outputs": [],
   "source": [
    "driver = pd.read_pickle('../2019_Driver_Points.pickle')"
   ]
  },
  {
   "cell_type": "code",
   "execution_count": 57,
   "metadata": {},
   "outputs": [],
   "source": [
    "constructor = pd.read_pickle('../2019_Constructor_Points.pickle')"
   ]
  },
  {
   "cell_type": "code",
   "execution_count": 76,
   "metadata": {},
   "outputs": [],
   "source": [
    "cost.loc[cost.position=='Driver', 'display_name']=cost[cost.position=='Driver']['display_name'].str.replace(' ', '')"
   ]
  },
  {
   "cell_type": "code",
   "execution_count": 149,
   "metadata": {},
   "outputs": [],
   "source": [
    "driver_data = cost[['display_name','position','price']][cost.position=='Driver'].merge(\n",
    "    driver[['Name', 'AvgPoints', 'Mel']],\n",
    "    left_on = 'display_name',\n",
    "    right_on = 'Name',\n",
    "    how='left'\n",
    ").drop(columns=['Name'])"
   ]
  },
  {
   "cell_type": "code",
   "execution_count": 150,
   "metadata": {},
   "outputs": [],
   "source": [
    "driver_data['AvgPoints'] = driver_data.AvgPoints.fillna(0)\n",
    "driver_data['Mel'] = driver_data.Mel.fillna(0)"
   ]
  },
  {
   "cell_type": "code",
   "execution_count": 151,
   "metadata": {},
   "outputs": [
    {
     "data": {
      "text/html": [
       "<div>\n",
       "<style scoped>\n",
       "    .dataframe tbody tr th:only-of-type {\n",
       "        vertical-align: middle;\n",
       "    }\n",
       "\n",
       "    .dataframe tbody tr th {\n",
       "        vertical-align: top;\n",
       "    }\n",
       "\n",
       "    .dataframe thead th {\n",
       "        text-align: right;\n",
       "    }\n",
       "</style>\n",
       "<table border=\"1\" class=\"dataframe\">\n",
       "  <thead>\n",
       "    <tr style=\"text-align: right;\">\n",
       "      <th></th>\n",
       "      <th>display_name</th>\n",
       "      <th>position</th>\n",
       "      <th>price</th>\n",
       "      <th>AvgPoints</th>\n",
       "      <th>Mel</th>\n",
       "    </tr>\n",
       "  </thead>\n",
       "  <tbody>\n",
       "    <tr>\n",
       "      <th>0</th>\n",
       "      <td>L.Hamilton</td>\n",
       "      <td>Driver</td>\n",
       "      <td>31.3</td>\n",
       "      <td>40.05</td>\n",
       "      <td>32.0</td>\n",
       "    </tr>\n",
       "    <tr>\n",
       "      <th>1</th>\n",
       "      <td>V.Bottas</td>\n",
       "      <td>Driver</td>\n",
       "      <td>28.4</td>\n",
       "      <td>31.48</td>\n",
       "      <td>48.0</td>\n",
       "    </tr>\n",
       "  </tbody>\n",
       "</table>\n",
       "</div>"
      ],
      "text/plain": [
       "  display_name position  price  AvgPoints   Mel\n",
       "0   L.Hamilton   Driver   31.3      40.05  32.0\n",
       "1     V.Bottas   Driver   28.4      31.48  48.0"
      ]
     },
     "execution_count": 151,
     "metadata": {},
     "output_type": "execute_result"
    }
   ],
   "source": [
    "driver_data.head(2)"
   ]
  },
  {
   "cell_type": "code",
   "execution_count": 152,
   "metadata": {},
   "outputs": [],
   "source": [
    "constructor_data = cost[['display_name', 'position','team_abbreviation', 'price']][cost.position=='Constructor'].merge(\n",
    "    constructor[['Constructor','team_abbreviation', 'AverageCon', 'Mel']],\n",
    "    on='team_abbreviation',\n",
    "    how='left'\n",
    ").drop(columns=['Constructor', 'team_abbreviation']).rename(\n",
    "    columns={\n",
    "        'AverageCon': 'AvgPoints',\n",
    "    }\n",
    ")"
   ]
  },
  {
   "cell_type": "code",
   "execution_count": 153,
   "metadata": {},
   "outputs": [],
   "source": [
    "constructor_data['AvgPoints'] = constructor_data.AvgPoints.fillna(0)\n",
    "constructor_data['Mel'] = constructor_data.Mel.fillna(0)"
   ]
  },
  {
   "cell_type": "code",
   "execution_count": 154,
   "metadata": {},
   "outputs": [
    {
     "data": {
      "text/html": [
       "<div>\n",
       "<style scoped>\n",
       "    .dataframe tbody tr th:only-of-type {\n",
       "        vertical-align: middle;\n",
       "    }\n",
       "\n",
       "    .dataframe tbody tr th {\n",
       "        vertical-align: top;\n",
       "    }\n",
       "\n",
       "    .dataframe thead th {\n",
       "        text-align: right;\n",
       "    }\n",
       "</style>\n",
       "<table border=\"1\" class=\"dataframe\">\n",
       "  <thead>\n",
       "    <tr style=\"text-align: right;\">\n",
       "      <th></th>\n",
       "      <th>display_name</th>\n",
       "      <th>position</th>\n",
       "      <th>price</th>\n",
       "      <th>AvgPoints</th>\n",
       "      <th>Mel</th>\n",
       "    </tr>\n",
       "  </thead>\n",
       "  <tbody>\n",
       "    <tr>\n",
       "      <th>0</th>\n",
       "      <td>Ferrari</td>\n",
       "      <td>Constructor</td>\n",
       "      <td>27.4</td>\n",
       "      <td>45.8</td>\n",
       "      <td>42</td>\n",
       "    </tr>\n",
       "    <tr>\n",
       "      <th>1</th>\n",
       "      <td>Williams</td>\n",
       "      <td>Constructor</td>\n",
       "      <td>6.5</td>\n",
       "      <td>11.1</td>\n",
       "      <td>16</td>\n",
       "    </tr>\n",
       "  </tbody>\n",
       "</table>\n",
       "</div>"
      ],
      "text/plain": [
       "  display_name     position  price  AvgPoints  Mel\n",
       "0      Ferrari  Constructor   27.4       45.8   42\n",
       "1     Williams  Constructor    6.5       11.1   16"
      ]
     },
     "execution_count": 154,
     "metadata": {},
     "output_type": "execute_result"
    }
   ],
   "source": [
    "constructor_data.head(2)"
   ]
  },
  {
   "cell_type": "code",
   "execution_count": 155,
   "metadata": {},
   "outputs": [],
   "source": [
    "data = pd.concat([constructor_data, driver_data]).reset_index(drop=True)"
   ]
  },
  {
   "cell_type": "code",
   "execution_count": 156,
   "metadata": {},
   "outputs": [
    {
     "data": {
      "text/html": [
       "<div>\n",
       "<style scoped>\n",
       "    .dataframe tbody tr th:only-of-type {\n",
       "        vertical-align: middle;\n",
       "    }\n",
       "\n",
       "    .dataframe tbody tr th {\n",
       "        vertical-align: top;\n",
       "    }\n",
       "\n",
       "    .dataframe thead th {\n",
       "        text-align: right;\n",
       "    }\n",
       "</style>\n",
       "<table border=\"1\" class=\"dataframe\">\n",
       "  <thead>\n",
       "    <tr style=\"text-align: right;\">\n",
       "      <th></th>\n",
       "      <th>display_name</th>\n",
       "      <th>position</th>\n",
       "      <th>price</th>\n",
       "      <th>AvgPoints</th>\n",
       "      <th>Mel</th>\n",
       "    </tr>\n",
       "  </thead>\n",
       "  <tbody>\n",
       "    <tr>\n",
       "      <th>0</th>\n",
       "      <td>Ferrari</td>\n",
       "      <td>Constructor</td>\n",
       "      <td>27.4</td>\n",
       "      <td>45.8</td>\n",
       "      <td>42.0</td>\n",
       "    </tr>\n",
       "    <tr>\n",
       "      <th>1</th>\n",
       "      <td>Williams</td>\n",
       "      <td>Constructor</td>\n",
       "      <td>6.5</td>\n",
       "      <td>11.1</td>\n",
       "      <td>16.0</td>\n",
       "    </tr>\n",
       "  </tbody>\n",
       "</table>\n",
       "</div>"
      ],
      "text/plain": [
       "  display_name     position  price  AvgPoints   Mel\n",
       "0      Ferrari  Constructor   27.4       45.8  42.0\n",
       "1     Williams  Constructor    6.5       11.1  16.0"
      ]
     },
     "execution_count": 156,
     "metadata": {},
     "output_type": "execute_result"
    }
   ],
   "source": [
    "data.head(2)"
   ]
  },
  {
   "cell_type": "code",
   "execution_count": 157,
   "metadata": {},
   "outputs": [],
   "source": [
    "data.to_pickle('week1_data.pickle')"
   ]
  },
  {
   "cell_type": "markdown",
   "metadata": {},
   "source": [
    "## Optimisation"
   ]
  },
  {
   "cell_type": "markdown",
   "metadata": {},
   "source": [
    "Create Decison Variables"
   ]
  },
  {
   "cell_type": "code",
   "execution_count": 135,
   "metadata": {},
   "outputs": [],
   "source": [
    "constructor_var = LpVariable.dict(\n",
    "    'Constructor', \n",
    "    data['display_name'][data.position=='Constructor'], \n",
    "    0, \n",
    "    cat='Binary'\n",
    ")"
   ]
  },
  {
   "cell_type": "code",
   "execution_count": 136,
   "metadata": {},
   "outputs": [],
   "source": [
    "driver_var = LpVariable.dict(\n",
    "    'Driver', \n",
    "    data['display_name'][data.position=='Driver'], \n",
    "    0, \n",
    "    cat='Binary'\n",
    ")"
   ]
  },
  {
   "cell_type": "markdown",
   "metadata": {},
   "source": [
    "Define Objective Function"
   ]
  },
  {
   "cell_type": "code",
   "execution_count": 189,
   "metadata": {},
   "outputs": [],
   "source": [
    "prob = LpProblem('Fantasty_F1_Week_1', LpMaximize)"
   ]
  },
  {
   "cell_type": "code",
   "execution_count": 190,
   "metadata": {},
   "outputs": [],
   "source": [
    "driver_rewards = []\n",
    "constructor_rewards = []"
   ]
  },
  {
   "cell_type": "code",
   "execution_count": 191,
   "metadata": {},
   "outputs": [],
   "source": [
    "list1 = list(data[data.position=='Driver'].eval('AvgPoints + 0.5*Mel'))\n",
    "list2 = list(data[data.position=='Constructor'].eval('AvgPoints + 0.5*Mel'))\n",
    "driver_rewards += lpSum( \n",
    "    [a*b for a, b in zip(list1, driver_var.values()) ]\n",
    ")\n",
    "constructor_rewards += lpSum( \n",
    "    [a*b for a, b in zip(list1, constructor_var.values()) ]\n",
    ")"
   ]
  },
  {
   "cell_type": "code",
   "execution_count": 192,
   "metadata": {},
   "outputs": [],
   "source": [
    "prob += driver_rewards + constructor_rewards, 'Total Points Scored'"
   ]
  },
  {
   "cell_type": "markdown",
   "metadata": {},
   "source": [
    "Add constraints"
   ]
  },
  {
   "cell_type": "code",
   "execution_count": 193,
   "metadata": {},
   "outputs": [],
   "source": [
    "prob += lpSum(driver_var) <= 5, 'Max Number of Drivers'\n",
    "prob += lpSum(constructor_var) <= 1, 'Max Number of Constructor'"
   ]
  },
  {
   "cell_type": "code",
   "execution_count": 195,
   "metadata": {},
   "outputs": [],
   "source": [
    "driver_costs = []\n",
    "constructor_costs = []\n",
    "list3 = list(data[data.position=='Driver'].price)\n",
    "list4 = list(data[data.position=='Constructor'].price)\n",
    "\n",
    "driver_costs += lpSum(\n",
    "    [a*b for a,b in zip(list3, driver_var.values())]\n",
    ")\n",
    "constructor_costs += lpSum(\n",
    "    [a*b for a,b in zip(list4, constructor_var.values())]\n",
    ")"
   ]
  },
  {
   "cell_type": "code",
   "execution_count": 196,
   "metadata": {},
   "outputs": [],
   "source": [
    "prob += driver_costs + constructor_costs <= 100, 'Total Cost of Team'"
   ]
  },
  {
   "cell_type": "code",
   "execution_count": 198,
   "metadata": {},
   "outputs": [
    {
     "data": {
      "text/plain": [
       "1"
      ]
     },
     "execution_count": 198,
     "metadata": {},
     "output_type": "execute_result"
    }
   ],
   "source": [
    "prob.solve()"
   ]
  },
  {
   "cell_type": "code",
   "execution_count": 199,
   "metadata": {},
   "outputs": [
    {
     "name": "stdout",
     "output_type": "stream",
     "text": [
      "Status: Optimal\n"
     ]
    }
   ],
   "source": [
    "print(\"Status:\", LpStatus[prob.status])"
   ]
  },
  {
   "cell_type": "markdown",
   "metadata": {},
   "source": [
    "### Results"
   ]
  },
  {
   "cell_type": "code",
   "execution_count": 202,
   "metadata": {},
   "outputs": [],
   "source": [
    "def summary(prob):\n",
    "    div = '---------------------------------------\\n'\n",
    "    print(\"Variables:\\n\")\n",
    "    score = str(prob.objective)\n",
    "    constraints = [str(const) for const in prob.constraints.values()]\n",
    "    for v in prob.variables():\n",
    "        score = score.replace(v.name, str(v.varValue))\n",
    "        constraints = [const.replace(v.name, str(v.varValue)) for const in constraints]\n",
    "        if v.varValue != 0:\n",
    "            print(v.name, \"=\", v.varValue)\n",
    "    print(div)\n",
    "    print(\"Constraints:\")\n",
    "    for constraint in constraints:\n",
    "        constraint_pretty = \" + \".join(re.findall(\"[0-9\\.]*\\*1.0\", constraint))\n",
    "        if constraint_pretty != \"\":\n",
    "            print(\"{} = {}\".format(constraint_pretty, eval(constraint_pretty)))\n",
    "    print(div)\n",
    "    print(\"Score:\")\n",
    "    score_pretty = \" + \".join(re.findall(\"[0-9\\.]+\\*1.0\", score))\n",
    "    print(\"{} = {}\".format(score_pretty, eval(score)))"
   ]
  },
  {
   "cell_type": "code",
   "execution_count": 206,
   "metadata": {},
   "outputs": [
    {
     "name": "stdout",
     "output_type": "stream",
     "text": [
      "Variables:\n",
      "\n",
      "Constructor_Williams = 1.0\n",
      "Driver_G.Russell = 1.0\n",
      "Driver_M.Verstappen = 1.0\n",
      "Driver_P.Gasly = 1.0\n",
      "Driver_S.Vettel = 1.0\n",
      "Driver_V.Bottas = 1.0\n",
      "---------------------------------------\n",
      "\n",
      "Constraints:\n",
      "6.5*1.0 + 5.9*1.0 + 26.1*1.0 + 10.4*1.0 + 21.8*1.0 + 28.4*1.0 = 99.1\n",
      "---------------------------------------\n",
      "\n",
      "Score:\n",
      "55.480000000000004*1.0 + 15.31*1.0 + 46.55*1.0 + 22.81*1.0 + 37.55*1.0 + 55.480000000000004*1.0 = 233.18\n"
     ]
    }
   ],
   "source": [
    "summary (prob)"
   ]
  },
  {
   "cell_type": "markdown",
   "metadata": {},
   "source": [
    "## Optimisation - with Hamilton in the team"
   ]
  },
  {
   "cell_type": "code",
   "execution_count": 207,
   "metadata": {},
   "outputs": [],
   "source": [
    "prob = LpProblem('Fantasty_F1_Week_1', LpMaximize)"
   ]
  },
  {
   "cell_type": "code",
   "execution_count": 208,
   "metadata": {},
   "outputs": [],
   "source": [
    "#Objective Function\n",
    "prob += driver_rewards + constructor_rewards, 'Total Points Scored'"
   ]
  },
  {
   "cell_type": "code",
   "execution_count": 211,
   "metadata": {},
   "outputs": [],
   "source": [
    "#Constraints\n",
    "prob += lpSum(driver_var) <= 5, 'Max Number of Drivers'\n",
    "prob += lpSum(constructor_var) <= 1, 'Max Number of Constructor'\n",
    "prob += driver_costs + constructor_costs <= 100, 'Total Cost of Team'\n",
    "prob += driver_var['L.Hamilton'] == 1, 'Hamilton has to be in the team'"
   ]
  },
  {
   "cell_type": "code",
   "execution_count": 213,
   "metadata": {},
   "outputs": [
    {
     "data": {
      "text/plain": [
       "1"
      ]
     },
     "execution_count": 213,
     "metadata": {},
     "output_type": "execute_result"
    }
   ],
   "source": [
    "prob.solve()"
   ]
  },
  {
   "cell_type": "code",
   "execution_count": 214,
   "metadata": {},
   "outputs": [
    {
     "name": "stdout",
     "output_type": "stream",
     "text": [
      "Status: Optimal\n"
     ]
    }
   ],
   "source": [
    "print(\"Status:\", LpStatus[prob.status])"
   ]
  },
  {
   "cell_type": "code",
   "execution_count": 215,
   "metadata": {},
   "outputs": [
    {
     "name": "stdout",
     "output_type": "stream",
     "text": [
      "Variables:\n",
      "\n",
      "Constructor_Williams = 1.0\n",
      "Driver_G.Russell = 1.0\n",
      "Driver_L.Hamilton = 1.0\n",
      "Driver_M.Verstappen = 1.0\n",
      "Driver_V.Bottas = 1.0\n",
      "---------------------------------------\n",
      "\n",
      "Constraints:\n",
      "6.5*1.0 + 5.9*1.0 + 31.3*1.0 + 26.1*1.0 + 28.4*1.0 = 98.20000000000002\n",
      "---------------------------------------\n",
      "\n",
      "Score:\n",
      "55.480000000000004*1.0 + 15.31*1.0 + 56.05*1.0 + 46.55*1.0 + 55.480000000000004*1.0 = 228.87\n"
     ]
    }
   ],
   "source": [
    "summary (prob)"
   ]
  },
  {
   "cell_type": "markdown",
   "metadata": {},
   "source": [
    "## Optimisation - with Hamilton & Mercedes in the team"
   ]
  },
  {
   "cell_type": "code",
   "execution_count": 217,
   "metadata": {},
   "outputs": [],
   "source": [
    "prob = LpProblem('Fantasty_F1_Week_1', LpMaximize)"
   ]
  },
  {
   "cell_type": "code",
   "execution_count": 218,
   "metadata": {},
   "outputs": [],
   "source": [
    "#Objective Function\n",
    "prob += driver_rewards + constructor_rewards, 'Total Points Scored'"
   ]
  },
  {
   "cell_type": "code",
   "execution_count": 220,
   "metadata": {},
   "outputs": [],
   "source": [
    "#Constraints\n",
    "prob += lpSum(driver_var) <= 5, 'Max Number of Drivers'\n",
    "prob += lpSum(constructor_var) <= 1, 'Max Number of Constructor'\n",
    "prob += driver_costs + constructor_costs <= 100, 'Total Cost of Team'\n",
    "prob += driver_var['L.Hamilton'] == 1, 'Hamilton has to be in the team'\n",
    "prob += constructor_var['Mercedes'] == 1, 'Mercedes has to be in the team'"
   ]
  },
  {
   "cell_type": "code",
   "execution_count": 221,
   "metadata": {},
   "outputs": [
    {
     "data": {
      "text/plain": [
       "1"
      ]
     },
     "execution_count": 221,
     "metadata": {},
     "output_type": "execute_result"
    }
   ],
   "source": [
    "prob.solve()"
   ]
  },
  {
   "cell_type": "code",
   "execution_count": 222,
   "metadata": {},
   "outputs": [
    {
     "name": "stdout",
     "output_type": "stream",
     "text": [
      "Status: Optimal\n"
     ]
    }
   ],
   "source": [
    "print(\"Status:\", LpStatus[prob.status])"
   ]
  },
  {
   "cell_type": "code",
   "execution_count": 223,
   "metadata": {},
   "outputs": [
    {
     "name": "stdout",
     "output_type": "stream",
     "text": [
      "Variables:\n",
      "\n",
      "Constructor_Mercedes = 1.0\n",
      "Driver_D.Kvyat = 1.0\n",
      "Driver_G.Russell = 1.0\n",
      "Driver_K.Raikkonen = 1.0\n",
      "Driver_L.Hamilton = 1.0\n",
      "Driver_P.Gasly = 1.0\n",
      "---------------------------------------\n",
      "\n",
      "Constraints:\n",
      "32.2*1.0 + 9.9*1.0 + 5.9*1.0 + 10.3*1.0 + 31.3*1.0 + 10.4*1.0 = 100.0\n",
      "---------------------------------------\n",
      "\n",
      "Score:\n",
      "35.81*1.0 + 17.6*1.0 + 15.31*1.0 + 19.36*1.0 + 56.05*1.0 + 22.81*1.0 = 166.94\n"
     ]
    }
   ],
   "source": [
    "summary (prob)"
   ]
  },
  {
   "cell_type": "markdown",
   "metadata": {},
   "source": [
    "### END"
   ]
  }
 ],
 "metadata": {
  "kernelspec": {
   "display_name": "Python 3",
   "language": "python",
   "name": "python3"
  },
  "language_info": {
   "codemirror_mode": {
    "name": "ipython",
    "version": 3
   },
   "file_extension": ".py",
   "mimetype": "text/x-python",
   "name": "python",
   "nbconvert_exporter": "python",
   "pygments_lexer": "ipython3",
   "version": "3.6.5"
  }
 },
 "nbformat": 4,
 "nbformat_minor": 4
}
