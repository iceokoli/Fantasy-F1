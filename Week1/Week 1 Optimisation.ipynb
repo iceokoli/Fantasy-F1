{
 "cells": [
  {
   "cell_type": "markdown",
   "metadata": {},
   "source": [
    "# Week 1 Optimisation"
   ]
  },
  {
   "cell_type": "markdown",
   "metadata": {},
   "source": [
    "## Summary\n",
    "\n",
    "The objective for this week is to come up with an initial team to start of the 2020 season.\n",
    "\n",
    "Stats we will be taking into account in our objective functions we are trying to maximise within the constraints:\n",
    "- m1. Average Fantasy Points in 2019 season (weight: 45%)\n",
    "- m2. Total Fantasy Points in this race last year (weight: 15%)\n",
    "- m3. F1 experts rating of the teams after preseason testing (20%)\n",
    "- m4. Team standings after FP2 (20%)\n",
    "\n",
    "How important each of the above metric was determined arbitrarily based on how much importance I place on them myself.This is primarily done by the fact you can only make one change per week, and so I am prioritising performance over the whole season (m1 & m3) over potential performance that race (m2 & m4).\n",
    "\n",
    "Probems with this apprach are it is heavily reliant on last year being representive of this year and all forward looking data points are not very representive of the race."
   ]
  },
  {
   "cell_type": "code",
   "execution_count": 1,
   "metadata": {},
   "outputs": [],
   "source": [
    "import requests\n",
    "import pandas as pd\n",
    "from pulp import *\n",
    "import re"
   ]
  },
  {
   "cell_type": "markdown",
   "metadata": {},
   "source": [
    "## Get Data"
   ]
  },
  {
   "cell_type": "markdown",
   "metadata": {},
   "source": [
    "Get Cost Data"
   ]
  },
  {
   "cell_type": "code",
   "execution_count": 2,
   "metadata": {},
   "outputs": [],
   "source": [
    "r = requests.get('https://fantasy-api.formula1.com/partner_games/f1/players')"
   ]
  },
  {
   "cell_type": "code",
   "execution_count": 3,
   "metadata": {},
   "outputs": [],
   "source": [
    "cost = pd.DataFrame(r.json()['players'] )\n",
    "cost = cost.set_index('id').reset_index(drop=True)"
   ]
  },
  {
   "cell_type": "code",
   "execution_count": 4,
   "metadata": {},
   "outputs": [
    {
     "data": {
      "text/html": [
       "<div>\n",
       "<style scoped>\n",
       "    .dataframe tbody tr th:only-of-type {\n",
       "        vertical-align: middle;\n",
       "    }\n",
       "\n",
       "    .dataframe tbody tr th {\n",
       "        vertical-align: top;\n",
       "    }\n",
       "\n",
       "    .dataframe thead th {\n",
       "        text-align: right;\n",
       "    }\n",
       "</style>\n",
       "<table border=\"1\" class=\"dataframe\">\n",
       "  <thead>\n",
       "    <tr style=\"text-align: right;\">\n",
       "      <th></th>\n",
       "      <th>first_name</th>\n",
       "      <th>last_name</th>\n",
       "      <th>team_name</th>\n",
       "      <th>position</th>\n",
       "      <th>position_id</th>\n",
       "      <th>position_abbreviation</th>\n",
       "      <th>price</th>\n",
       "      <th>current_price_change_info</th>\n",
       "      <th>status</th>\n",
       "      <th>injured</th>\n",
       "      <th>...</th>\n",
       "      <th>season_score</th>\n",
       "      <th>driver_data</th>\n",
       "      <th>constructor_data</th>\n",
       "      <th>born_at</th>\n",
       "      <th>season_prices</th>\n",
       "      <th>price_change</th>\n",
       "      <th>num_fixtures_in_gameweek</th>\n",
       "      <th>has_fixture</th>\n",
       "      <th>display_name</th>\n",
       "      <th>external_id</th>\n",
       "    </tr>\n",
       "  </thead>\n",
       "  <tbody>\n",
       "    <tr>\n",
       "      <th>0</th>\n",
       "      <td>Scuderia Ferrari Mission Winnow</td>\n",
       "      <td>None</td>\n",
       "      <td>Scuderia Ferrari Mission Winnow</td>\n",
       "      <td>Constructor</td>\n",
       "      <td>2</td>\n",
       "      <td>CR</td>\n",
       "      <td>27.4</td>\n",
       "      <td>None</td>\n",
       "      <td>None</td>\n",
       "      <td>False</td>\n",
       "      <td>...</td>\n",
       "      <td>0</td>\n",
       "      <td>None</td>\n",
       "      <td>{'best_finish': 1, 'best_finish_count': 239, '...</td>\n",
       "      <td>None</td>\n",
       "      <td>None</td>\n",
       "      <td>27.4</td>\n",
       "      <td>2</td>\n",
       "      <td>True</td>\n",
       "      <td>Ferrari</td>\n",
       "      <td>526:59:FER</td>\n",
       "    </tr>\n",
       "    <tr>\n",
       "      <th>1</th>\n",
       "      <td>ROKiT Williams Racing</td>\n",
       "      <td>None</td>\n",
       "      <td>ROKiT Williams Racing</td>\n",
       "      <td>Constructor</td>\n",
       "      <td>2</td>\n",
       "      <td>CR</td>\n",
       "      <td>6.5</td>\n",
       "      <td>None</td>\n",
       "      <td>None</td>\n",
       "      <td>False</td>\n",
       "      <td>...</td>\n",
       "      <td>0</td>\n",
       "      <td>None</td>\n",
       "      <td>{'best_finish': 1, 'best_finish_count': 114, '...</td>\n",
       "      <td>None</td>\n",
       "      <td>None</td>\n",
       "      <td>6.5</td>\n",
       "      <td>2</td>\n",
       "      <td>True</td>\n",
       "      <td>Williams</td>\n",
       "      <td>481:172:WIL</td>\n",
       "    </tr>\n",
       "  </tbody>\n",
       "</table>\n",
       "<p>2 rows × 35 columns</p>\n",
       "</div>"
      ],
      "text/plain": [
       "                        first_name last_name                        team_name  \\\n",
       "0  Scuderia Ferrari Mission Winnow      None  Scuderia Ferrari Mission Winnow   \n",
       "1            ROKiT Williams Racing      None            ROKiT Williams Racing   \n",
       "\n",
       "      position  position_id position_abbreviation  price  \\\n",
       "0  Constructor            2                    CR   27.4   \n",
       "1  Constructor            2                    CR    6.5   \n",
       "\n",
       "  current_price_change_info status  injured  ... season_score  driver_data  \\\n",
       "0                      None   None    False  ...            0         None   \n",
       "1                      None   None    False  ...            0         None   \n",
       "\n",
       "                                    constructor_data  born_at  season_prices  \\\n",
       "0  {'best_finish': 1, 'best_finish_count': 239, '...     None           None   \n",
       "1  {'best_finish': 1, 'best_finish_count': 114, '...     None           None   \n",
       "\n",
       "  price_change  num_fixtures_in_gameweek has_fixture display_name  external_id  \n",
       "0         27.4                         2        True      Ferrari   526:59:FER  \n",
       "1          6.5                         2        True     Williams  481:172:WIL  \n",
       "\n",
       "[2 rows x 35 columns]"
      ]
     },
     "execution_count": 4,
     "metadata": {},
     "output_type": "execute_result"
    }
   ],
   "source": [
    "cost.head(2)"
   ]
  },
  {
   "cell_type": "markdown",
   "metadata": {},
   "source": [
    "Get 2019 fantasy points data and merge with cost data to get final data set for optimisation"
   ]
  },
  {
   "cell_type": "code",
   "execution_count": 5,
   "metadata": {},
   "outputs": [],
   "source": [
    "driver = pd.read_pickle('../2019_Driver_Points.pickle')"
   ]
  },
  {
   "cell_type": "code",
   "execution_count": 6,
   "metadata": {},
   "outputs": [],
   "source": [
    "constructor = pd.read_pickle('../2019_Constructor_Points.pickle')"
   ]
  },
  {
   "cell_type": "code",
   "execution_count": 11,
   "metadata": {},
   "outputs": [],
   "source": [
    "testing = pd.read_pickle('../2020_Testing.pickle')"
   ]
  },
  {
   "cell_type": "code",
   "execution_count": 7,
   "metadata": {},
   "outputs": [],
   "source": [
    "cost.loc[cost.position=='Driver', 'display_name']=cost[cost.position=='Driver']['display_name'].str.replace(' ', '')"
   ]
  },
  {
   "cell_type": "code",
   "execution_count": 8,
   "metadata": {},
   "outputs": [],
   "source": [
    "driver_data = cost[['display_name','position','price', 'team_abbreviation']][cost.position=='Driver'].merge(\n",
    "    driver[['Name', 'AvgPoints', 'Mel']],\n",
    "    left_on = 'display_name',\n",
    "    right_on = 'Name',\n",
    "    how='left'\n",
    ").drop(columns=['Name'])"
   ]
  },
  {
   "cell_type": "code",
   "execution_count": 12,
   "metadata": {},
   "outputs": [],
   "source": [
    "driver_data['AvgPoints'] = driver_data.AvgPoints.fillna(0)\n",
    "driver_data['Mel'] = driver_data.Mel.fillna(0)"
   ]
  },
  {
   "cell_type": "code",
   "execution_count": 13,
   "metadata": {},
   "outputs": [
    {
     "data": {
      "text/html": [
       "<div>\n",
       "<style scoped>\n",
       "    .dataframe tbody tr th:only-of-type {\n",
       "        vertical-align: middle;\n",
       "    }\n",
       "\n",
       "    .dataframe tbody tr th {\n",
       "        vertical-align: top;\n",
       "    }\n",
       "\n",
       "    .dataframe thead th {\n",
       "        text-align: right;\n",
       "    }\n",
       "</style>\n",
       "<table border=\"1\" class=\"dataframe\">\n",
       "  <thead>\n",
       "    <tr style=\"text-align: right;\">\n",
       "      <th></th>\n",
       "      <th>display_name</th>\n",
       "      <th>position</th>\n",
       "      <th>price</th>\n",
       "      <th>team_abbreviation</th>\n",
       "      <th>AvgPoints</th>\n",
       "      <th>Mel</th>\n",
       "    </tr>\n",
       "  </thead>\n",
       "  <tbody>\n",
       "    <tr>\n",
       "      <th>0</th>\n",
       "      <td>L.Hamilton</td>\n",
       "      <td>Driver</td>\n",
       "      <td>31.3</td>\n",
       "      <td>MER</td>\n",
       "      <td>40.05</td>\n",
       "      <td>32.0</td>\n",
       "    </tr>\n",
       "    <tr>\n",
       "      <th>1</th>\n",
       "      <td>V.Bottas</td>\n",
       "      <td>Driver</td>\n",
       "      <td>28.4</td>\n",
       "      <td>MER</td>\n",
       "      <td>31.48</td>\n",
       "      <td>48.0</td>\n",
       "    </tr>\n",
       "  </tbody>\n",
       "</table>\n",
       "</div>"
      ],
      "text/plain": [
       "  display_name position  price team_abbreviation  AvgPoints   Mel\n",
       "0   L.Hamilton   Driver   31.3               MER      40.05  32.0\n",
       "1     V.Bottas   Driver   28.4               MER      31.48  48.0"
      ]
     },
     "execution_count": 13,
     "metadata": {},
     "output_type": "execute_result"
    }
   ],
   "source": [
    "driver_data.head(2)"
   ]
  },
  {
   "cell_type": "code",
   "execution_count": 14,
   "metadata": {},
   "outputs": [],
   "source": [
    "constructor_data = cost[['display_name', 'position','team_abbreviation', 'price']][cost.position=='Constructor'].merge(\n",
    "    constructor[['Constructor','team_abbreviation', 'AverageCon', 'Mel']],\n",
    "    on='team_abbreviation',\n",
    "    how='left'\n",
    ").drop(columns=['Constructor']).rename(\n",
    "    columns={\n",
    "        'AverageCon': 'AvgPoints',\n",
    "    }\n",
    ")"
   ]
  },
  {
   "cell_type": "code",
   "execution_count": 15,
   "metadata": {},
   "outputs": [],
   "source": [
    "constructor_data['AvgPoints'] = constructor_data.AvgPoints.fillna(0)\n",
    "constructor_data['Mel'] = constructor_data.Mel.fillna(0)"
   ]
  },
  {
   "cell_type": "code",
   "execution_count": 16,
   "metadata": {},
   "outputs": [
    {
     "data": {
      "text/html": [
       "<div>\n",
       "<style scoped>\n",
       "    .dataframe tbody tr th:only-of-type {\n",
       "        vertical-align: middle;\n",
       "    }\n",
       "\n",
       "    .dataframe tbody tr th {\n",
       "        vertical-align: top;\n",
       "    }\n",
       "\n",
       "    .dataframe thead th {\n",
       "        text-align: right;\n",
       "    }\n",
       "</style>\n",
       "<table border=\"1\" class=\"dataframe\">\n",
       "  <thead>\n",
       "    <tr style=\"text-align: right;\">\n",
       "      <th></th>\n",
       "      <th>display_name</th>\n",
       "      <th>position</th>\n",
       "      <th>team_abbreviation</th>\n",
       "      <th>price</th>\n",
       "      <th>AvgPoints</th>\n",
       "      <th>Mel</th>\n",
       "    </tr>\n",
       "  </thead>\n",
       "  <tbody>\n",
       "    <tr>\n",
       "      <th>0</th>\n",
       "      <td>Ferrari</td>\n",
       "      <td>Constructor</td>\n",
       "      <td>FER</td>\n",
       "      <td>27.4</td>\n",
       "      <td>45.8</td>\n",
       "      <td>42</td>\n",
       "    </tr>\n",
       "    <tr>\n",
       "      <th>1</th>\n",
       "      <td>Williams</td>\n",
       "      <td>Constructor</td>\n",
       "      <td>WIL</td>\n",
       "      <td>6.5</td>\n",
       "      <td>11.1</td>\n",
       "      <td>16</td>\n",
       "    </tr>\n",
       "  </tbody>\n",
       "</table>\n",
       "</div>"
      ],
      "text/plain": [
       "  display_name     position team_abbreviation  price  AvgPoints  Mel\n",
       "0      Ferrari  Constructor               FER   27.4       45.8   42\n",
       "1     Williams  Constructor               WIL    6.5       11.1   16"
      ]
     },
     "execution_count": 16,
     "metadata": {},
     "output_type": "execute_result"
    }
   ],
   "source": [
    "constructor_data.head(2)"
   ]
  },
  {
   "cell_type": "code",
   "execution_count": 20,
   "metadata": {},
   "outputs": [],
   "source": [
    "data = pd.concat(\n",
    "    [constructor_data, driver_data]\n",
    ").merge(\n",
    "    testing[['team_abbreviation', 'testing']],\n",
    "    on='team_abbreviation'\n",
    ").drop(columns=['team_abbreviation']).reset_index(drop=True)"
   ]
  },
  {
   "cell_type": "code",
   "execution_count": 24,
   "metadata": {},
   "outputs": [
    {
     "data": {
      "text/html": [
       "<div>\n",
       "<style scoped>\n",
       "    .dataframe tbody tr th:only-of-type {\n",
       "        vertical-align: middle;\n",
       "    }\n",
       "\n",
       "    .dataframe tbody tr th {\n",
       "        vertical-align: top;\n",
       "    }\n",
       "\n",
       "    .dataframe thead th {\n",
       "        text-align: right;\n",
       "    }\n",
       "</style>\n",
       "<table border=\"1\" class=\"dataframe\">\n",
       "  <thead>\n",
       "    <tr style=\"text-align: right;\">\n",
       "      <th></th>\n",
       "      <th>display_name</th>\n",
       "      <th>position</th>\n",
       "      <th>price</th>\n",
       "      <th>AvgPoints</th>\n",
       "      <th>Mel</th>\n",
       "      <th>testing</th>\n",
       "    </tr>\n",
       "  </thead>\n",
       "  <tbody>\n",
       "    <tr>\n",
       "      <th>0</th>\n",
       "      <td>Ferrari</td>\n",
       "      <td>Constructor</td>\n",
       "      <td>27.4</td>\n",
       "      <td>45.80</td>\n",
       "      <td>42.0</td>\n",
       "      <td>8</td>\n",
       "    </tr>\n",
       "    <tr>\n",
       "      <th>1</th>\n",
       "      <td>S.Vettel</td>\n",
       "      <td>Driver</td>\n",
       "      <td>21.8</td>\n",
       "      <td>24.05</td>\n",
       "      <td>27.0</td>\n",
       "      <td>8</td>\n",
       "    </tr>\n",
       "  </tbody>\n",
       "</table>\n",
       "</div>"
      ],
      "text/plain": [
       "  display_name     position  price  AvgPoints   Mel  testing\n",
       "0      Ferrari  Constructor   27.4      45.80  42.0        8\n",
       "1     S.Vettel       Driver   21.8      24.05  27.0        8"
      ]
     },
     "execution_count": 24,
     "metadata": {},
     "output_type": "execute_result"
    }
   ],
   "source": [
    "data.head(2)"
   ]
  },
  {
   "cell_type": "code",
   "execution_count": 25,
   "metadata": {},
   "outputs": [],
   "source": [
    "data.to_pickle('week1_data.pickle')"
   ]
  },
  {
   "cell_type": "markdown",
   "metadata": {},
   "source": [
    "Standerdise features by removing the mean and scaling to unit variance"
   ]
  },
  {
   "cell_type": "code",
   "execution_count": 44,
   "metadata": {},
   "outputs": [],
   "source": [
    "def z_score(series):\n",
    "    mean = series.mean()\n",
    "    std = series.std()\n",
    "    \n",
    "    return (series - mean) / std"
   ]
  },
  {
   "cell_type": "code",
   "execution_count": 45,
   "metadata": {},
   "outputs": [],
   "source": [
    "data.AvgPoints = z_score(data.AvgPoints)\n",
    "data.Mel = z_score(data.Mel)\n",
    "data.testing = z_score(data.testing)"
   ]
  },
  {
   "cell_type": "code",
   "execution_count": 47,
   "metadata": {},
   "outputs": [
    {
     "data": {
      "text/html": [
       "<div>\n",
       "<style scoped>\n",
       "    .dataframe tbody tr th:only-of-type {\n",
       "        vertical-align: middle;\n",
       "    }\n",
       "\n",
       "    .dataframe tbody tr th {\n",
       "        vertical-align: top;\n",
       "    }\n",
       "\n",
       "    .dataframe thead th {\n",
       "        text-align: right;\n",
       "    }\n",
       "</style>\n",
       "<table border=\"1\" class=\"dataframe\">\n",
       "  <thead>\n",
       "    <tr style=\"text-align: right;\">\n",
       "      <th></th>\n",
       "      <th>display_name</th>\n",
       "      <th>position</th>\n",
       "      <th>price</th>\n",
       "      <th>AvgPoints</th>\n",
       "      <th>Mel</th>\n",
       "      <th>testing</th>\n",
       "    </tr>\n",
       "  </thead>\n",
       "  <tbody>\n",
       "    <tr>\n",
       "      <th>0</th>\n",
       "      <td>Ferrari</td>\n",
       "      <td>Constructor</td>\n",
       "      <td>27.4</td>\n",
       "      <td>1.890751</td>\n",
       "      <td>1.399528</td>\n",
       "      <td>0.855759</td>\n",
       "    </tr>\n",
       "    <tr>\n",
       "      <th>1</th>\n",
       "      <td>S.Vettel</td>\n",
       "      <td>Driver</td>\n",
       "      <td>21.8</td>\n",
       "      <td>0.445053</td>\n",
       "      <td>0.579492</td>\n",
       "      <td>0.855759</td>\n",
       "    </tr>\n",
       "  </tbody>\n",
       "</table>\n",
       "</div>"
      ],
      "text/plain": [
       "  display_name     position  price  AvgPoints       Mel   testing\n",
       "0      Ferrari  Constructor   27.4   1.890751  1.399528  0.855759\n",
       "1     S.Vettel       Driver   21.8   0.445053  0.579492  0.855759"
      ]
     },
     "execution_count": 47,
     "metadata": {},
     "output_type": "execute_result"
    }
   ],
   "source": [
    "data.head(2)"
   ]
  },
  {
   "cell_type": "markdown",
   "metadata": {},
   "source": [
    "## Optimisation - Raw"
   ]
  },
  {
   "cell_type": "markdown",
   "metadata": {},
   "source": [
    "Create Decison Variables"
   ]
  },
  {
   "cell_type": "code",
   "execution_count": 26,
   "metadata": {},
   "outputs": [],
   "source": [
    "constructor_var = LpVariable.dict(\n",
    "    'Constructor', \n",
    "    data['display_name'][data.position=='Constructor'], \n",
    "    0, \n",
    "    cat='Binary'\n",
    ")"
   ]
  },
  {
   "cell_type": "code",
   "execution_count": 27,
   "metadata": {},
   "outputs": [],
   "source": [
    "driver_var = LpVariable.dict(\n",
    "    'Driver', \n",
    "    data['display_name'][data.position=='Driver'], \n",
    "    0, \n",
    "    cat='Binary'\n",
    ")"
   ]
  },
  {
   "cell_type": "markdown",
   "metadata": {},
   "source": [
    "Create the problem variable"
   ]
  },
  {
   "cell_type": "code",
   "execution_count": 59,
   "metadata": {},
   "outputs": [],
   "source": [
    "prob = LpProblem('Fantasty_F1_Week_1', LpMaximize)"
   ]
  },
  {
   "cell_type": "code",
   "execution_count": 60,
   "metadata": {},
   "outputs": [],
   "source": [
    "driver_rewards = []\n",
    "constructor_rewards = []"
   ]
  },
  {
   "cell_type": "code",
   "execution_count": 61,
   "metadata": {},
   "outputs": [],
   "source": [
    "driver_coef = list(\n",
    "    data[data.position=='Driver'].eval(\n",
    "        '0.45*AvgPoints + 0.15*Mel + 0.2*testing'\n",
    "    )\n",
    ")\n",
    "constructor_coef = list(\n",
    "    data[data.position=='Constructor'].eval(\n",
    "        '0.45*AvgPoints + 0.15*Mel + 0.2*testing'\n",
    "    )\n",
    ")\n",
    "driver_rewards += lpSum( \n",
    "    [a*b for a, b in zip(driver_coef, driver_var.values()) ]\n",
    ")\n",
    "constructor_rewards += lpSum( \n",
    "    [a*b for a, b in zip(constructor_coef, constructor_var.values()) ]\n",
    ")"
   ]
  },
  {
   "cell_type": "code",
   "execution_count": 62,
   "metadata": {},
   "outputs": [],
   "source": [
    "prob += driver_rewards + constructor_rewards, 'Total Points Scored'"
   ]
  },
  {
   "cell_type": "markdown",
   "metadata": {},
   "source": [
    "Add constraints"
   ]
  },
  {
   "cell_type": "code",
   "execution_count": 63,
   "metadata": {},
   "outputs": [],
   "source": [
    "prob += lpSum(driver_var) == 5, 'Max Number of Drivers'\n",
    "prob += lpSum(constructor_var) == 1, 'Max Number of Constructor'"
   ]
  },
  {
   "cell_type": "code",
   "execution_count": 64,
   "metadata": {},
   "outputs": [],
   "source": [
    "driver_costs = []\n",
    "constructor_costs = []\n",
    "driver_price = list(data[data.position=='Driver'].price)\n",
    "constructor_price = list(data[data.position=='Constructor'].price)\n",
    "\n",
    "driver_costs += lpSum(\n",
    "    [a*b for a,b in zip(driver_price, driver_var.values())]\n",
    ")\n",
    "constructor_costs += lpSum(\n",
    "    [a*b for a,b in zip(constructor_price, constructor_var.values())]\n",
    ")"
   ]
  },
  {
   "cell_type": "code",
   "execution_count": 65,
   "metadata": {},
   "outputs": [],
   "source": [
    "prob += driver_costs + constructor_costs <= 100, 'Total Cost of Team'"
   ]
  },
  {
   "cell_type": "code",
   "execution_count": 66,
   "metadata": {},
   "outputs": [
    {
     "data": {
      "text/plain": [
       "1"
      ]
     },
     "execution_count": 66,
     "metadata": {},
     "output_type": "execute_result"
    }
   ],
   "source": [
    "prob.solve()"
   ]
  },
  {
   "cell_type": "code",
   "execution_count": 67,
   "metadata": {},
   "outputs": [
    {
     "name": "stdout",
     "output_type": "stream",
     "text": [
      "Status: Optimal\n"
     ]
    }
   ],
   "source": [
    "print(\"Status:\", LpStatus[prob.status])"
   ]
  },
  {
   "cell_type": "markdown",
   "metadata": {},
   "source": [
    "### Results"
   ]
  },
  {
   "cell_type": "code",
   "execution_count": 68,
   "metadata": {},
   "outputs": [],
   "source": [
    "def summary(prob):\n",
    "    div = '---------------------------------------\\n'\n",
    "    print(\"Variables:\\n\")\n",
    "    score = str(prob.objective)\n",
    "    constraints = [str(const) for const in prob.constraints.values()]\n",
    "    for v in prob.variables():\n",
    "        score = score.replace(v.name, str(v.varValue))\n",
    "        constraints = [const.replace(v.name, str(v.varValue)) for const in constraints]\n",
    "        if v.varValue != 0:\n",
    "            print(v.name, \"=\", v.varValue)\n",
    "    print(div)\n",
    "    print(\"Constraints:\")\n",
    "    for constraint in constraints:\n",
    "        constraint_pretty = \" + \".join(re.findall(\"[0-9\\.]*\\*1.0\", constraint))\n",
    "        if constraint_pretty != \"\":\n",
    "            print(\"{} = {}\".format(constraint_pretty, eval(constraint_pretty)))\n",
    "    print(div)\n",
    "    print(\"Score:\")\n",
    "    score_pretty = \" + \".join(re.findall(\"[0-9\\.]+\\*1.0\", score))\n",
    "    print(\"{} = {}\".format(score_pretty, eval(score)))"
   ]
  },
  {
   "cell_type": "code",
   "execution_count": 69,
   "metadata": {},
   "outputs": [
    {
     "name": "stdout",
     "output_type": "stream",
     "text": [
      "Variables:\n",
      "\n",
      "Constructor_Mercedes = 1.0\n",
      "Driver_D.Kvyat = 1.0\n",
      "Driver_L.Stroll = 1.0\n",
      "Driver_P.Gasly = 1.0\n",
      "Driver_S.Perez = 1.0\n",
      "Driver_V.Bottas = 1.0\n",
      "---------------------------------------\n",
      "\n",
      "Constraints:\n",
      "32.2*1.0 + 9.9*1.0 + 7.9*1.0 + 10.4*1.0 + 9.3*1.0 + 28.4*1.0 = 98.1\n",
      "---------------------------------------\n",
      "\n",
      "Score:\n",
      "2.1607768904301836*1.0 + 0.34466611265548125*1.0 + 0.1706905225852742*1.0 + 0.15505418264854248*1.0 + 0.12960894713028362*1.0 + 0.9897171189016905*1.0 = 2.3504742443122923\n"
     ]
    }
   ],
   "source": [
    "summary (prob)"
   ]
  },
  {
   "cell_type": "markdown",
   "metadata": {},
   "source": [
    "## Optimisation - with Hamilton & GeorgeR in the team"
   ]
  },
  {
   "cell_type": "code",
   "execution_count": 96,
   "metadata": {},
   "outputs": [],
   "source": [
    "prob = LpProblem('Fantasty_F1_Week_1', LpMaximize)"
   ]
  },
  {
   "cell_type": "code",
   "execution_count": 97,
   "metadata": {},
   "outputs": [],
   "source": [
    "#Objective Function\n",
    "prob += driver_rewards + constructor_rewards, 'Total Points Scored'"
   ]
  },
  {
   "cell_type": "code",
   "execution_count": 98,
   "metadata": {},
   "outputs": [],
   "source": [
    "#hard Constraints\n",
    "prob += lpSum(driver_var) == 5, 'Max Number of Drivers'\n",
    "prob += lpSum(constructor_var) == 1, 'Max Number of Constructor'\n",
    "prob += driver_costs + constructor_costs <= 100, 'Total Cost of Team'"
   ]
  },
  {
   "cell_type": "code",
   "execution_count": 99,
   "metadata": {},
   "outputs": [],
   "source": [
    "#Soft Constraints\n",
    "prob += driver_var['L.Hamilton'] == 1, 'Hamilton has to be in the team'\n",
    "prob += driver_var['G.Russell'] == 1, 'Russell has to be in the team'\n",
    "prob += driver_var['P.Gasly'] == 0, 'Gasly not to be in the team' #changed team mid 2019"
   ]
  },
  {
   "cell_type": "code",
   "execution_count": 100,
   "metadata": {},
   "outputs": [
    {
     "data": {
      "text/plain": [
       "1"
      ]
     },
     "execution_count": 100,
     "metadata": {},
     "output_type": "execute_result"
    }
   ],
   "source": [
    "prob.solve()"
   ]
  },
  {
   "cell_type": "code",
   "execution_count": 101,
   "metadata": {},
   "outputs": [
    {
     "name": "stdout",
     "output_type": "stream",
     "text": [
      "Status: Optimal\n"
     ]
    }
   ],
   "source": [
    "print(\"Status:\", LpStatus[prob.status])"
   ]
  },
  {
   "cell_type": "code",
   "execution_count": 102,
   "metadata": {},
   "outputs": [
    {
     "name": "stdout",
     "output_type": "stream",
     "text": [
      "Variables:\n",
      "\n",
      "Constructor_Mercedes = 1.0\n",
      "Driver_D.Kvyat = 1.0\n",
      "Driver_G.Russell = 1.0\n",
      "Driver_L.Hamilton = 1.0\n",
      "Driver_L.Stroll = 1.0\n",
      "Driver_S.Perez = 1.0\n",
      "---------------------------------------\n",
      "\n",
      "Constraints:\n",
      "32.2*1.0 + 9.9*1.0 + 5.9*1.0 + 31.3*1.0 + 7.9*1.0 + 9.3*1.0 = 96.5\n",
      "---------------------------------------\n",
      "\n",
      "Score:\n",
      "2.1607768904301836*1.0 + 0.34466611265548125*1.0 + 0.591523854842104*1.0 + 1.1148485699697241*1.0 + 0.1706905225852742*1.0 + 0.12960894713028362*1.0 = 2.0391360231867646\n"
     ]
    }
   ],
   "source": [
    "summary (prob)"
   ]
  },
  {
   "cell_type": "markdown",
   "metadata": {},
   "source": [
    "### END"
   ]
  }
 ],
 "metadata": {
  "kernelspec": {
   "display_name": "Python 3",
   "language": "python",
   "name": "python3"
  },
  "language_info": {
   "codemirror_mode": {
    "name": "ipython",
    "version": 3
   },
   "file_extension": ".py",
   "mimetype": "text/x-python",
   "name": "python",
   "nbconvert_exporter": "python",
   "pygments_lexer": "ipython3",
   "version": "3.6.5"
  }
 },
 "nbformat": 4,
 "nbformat_minor": 4
}
