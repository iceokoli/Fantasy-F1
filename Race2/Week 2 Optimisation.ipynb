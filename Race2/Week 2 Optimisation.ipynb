{
 "cells": [
  {
   "cell_type": "markdown",
   "metadata": {},
   "source": [
    "# Week 2 Optimisation"
   ]
  },
  {
   "cell_type": "markdown",
   "metadata": {},
   "source": [
    "## Strategy\n",
    "\n",
    "Stats we will be taking into account in our objective functions we are trying to maximise within the constraints:\n",
    "\n",
    "- m1. Average Fantasy Points in 2019 season (weight: 30%)\n",
    "- m2. Points from the last race (45%)\n",
    "- m3. Qualified in Top 10 (25%)"
   ]
  },
  {
   "cell_type": "code",
   "execution_count": 1,
   "metadata": {},
   "outputs": [],
   "source": [
    "import requests\n",
    "import pandas as pd\n",
    "from pulp import *\n",
    "import re"
   ]
  },
  {
   "cell_type": "markdown",
   "metadata": {},
   "source": [
    "## Get Data"
   ]
  },
  {
   "cell_type": "code",
   "execution_count": 2,
   "metadata": {},
   "outputs": [],
   "source": [
    "r = requests.get('https://fantasy-api.formula1.com/partner_games/f1/players')"
   ]
  },
  {
   "cell_type": "code",
   "execution_count": 3,
   "metadata": {},
   "outputs": [
    {
     "data": {
      "text/html": [
       "<div>\n",
       "<style scoped>\n",
       "    .dataframe tbody tr th:only-of-type {\n",
       "        vertical-align: middle;\n",
       "    }\n",
       "\n",
       "    .dataframe tbody tr th {\n",
       "        vertical-align: top;\n",
       "    }\n",
       "\n",
       "    .dataframe thead th {\n",
       "        text-align: right;\n",
       "    }\n",
       "</style>\n",
       "<table border=\"1\" class=\"dataframe\">\n",
       "  <thead>\n",
       "    <tr style=\"text-align: right;\">\n",
       "      <th></th>\n",
       "      <th>first_name</th>\n",
       "      <th>last_name</th>\n",
       "      <th>team_name</th>\n",
       "      <th>position</th>\n",
       "      <th>position_id</th>\n",
       "      <th>position_abbreviation</th>\n",
       "      <th>price</th>\n",
       "      <th>current_price_change_info</th>\n",
       "      <th>status</th>\n",
       "      <th>injured</th>\n",
       "      <th>...</th>\n",
       "      <th>driver_data</th>\n",
       "      <th>constructor_data</th>\n",
       "      <th>born_at</th>\n",
       "      <th>season_prices</th>\n",
       "      <th>num_fixtures_in_gameweek</th>\n",
       "      <th>has_fixture</th>\n",
       "      <th>display_name</th>\n",
       "      <th>external_id</th>\n",
       "      <th>profile_image</th>\n",
       "      <th>misc_image</th>\n",
       "    </tr>\n",
       "  </thead>\n",
       "  <tbody>\n",
       "    <tr>\n",
       "      <th>0</th>\n",
       "      <td>Scuderia Ferrari Mission Winnow</td>\n",
       "      <td></td>\n",
       "      <td>Scuderia Ferrari Mission Winnow</td>\n",
       "      <td>Constructor</td>\n",
       "      <td>2</td>\n",
       "      <td>CR</td>\n",
       "      <td>26.7</td>\n",
       "      <td>{'current_selection_count': 61840, 'current_se...</td>\n",
       "      <td>None</td>\n",
       "      <td>False</td>\n",
       "      <td>...</td>\n",
       "      <td>None</td>\n",
       "      <td>{'best_finish': 1, 'best_finish_count': 239, '...</td>\n",
       "      <td>None</td>\n",
       "      <td>[{'game_period_id': 1, 'price': 27.4}, {'game_...</td>\n",
       "      <td>2</td>\n",
       "      <td>True</td>\n",
       "      <td>Ferrari</td>\n",
       "      <td>526:59:FER</td>\n",
       "      <td>{'url': 'https://f1imageuploads.s3.amazonaws.c...</td>\n",
       "      <td>{'url': None}</td>\n",
       "    </tr>\n",
       "    <tr>\n",
       "      <th>1</th>\n",
       "      <td>Williams Racing</td>\n",
       "      <td></td>\n",
       "      <td>Williams Racing</td>\n",
       "      <td>Constructor</td>\n",
       "      <td>2</td>\n",
       "      <td>CR</td>\n",
       "      <td>6.5</td>\n",
       "      <td>{'current_selection_count': 9606, 'current_sel...</td>\n",
       "      <td>None</td>\n",
       "      <td>False</td>\n",
       "      <td>...</td>\n",
       "      <td>None</td>\n",
       "      <td>{'best_finish': 1, 'best_finish_count': 114, '...</td>\n",
       "      <td>None</td>\n",
       "      <td>[{'game_period_id': 1, 'price': 6.5}, {'game_p...</td>\n",
       "      <td>2</td>\n",
       "      <td>True</td>\n",
       "      <td>Williams</td>\n",
       "      <td>481:172:WIL</td>\n",
       "      <td>{'url': 'https://f1imageuploads.s3.amazonaws.c...</td>\n",
       "      <td>{'url': None}</td>\n",
       "    </tr>\n",
       "  </tbody>\n",
       "</table>\n",
       "<p>2 rows × 37 columns</p>\n",
       "</div>"
      ],
      "text/plain": [
       "                        first_name last_name                        team_name  \\\n",
       "0  Scuderia Ferrari Mission Winnow            Scuderia Ferrari Mission Winnow   \n",
       "1                  Williams Racing                            Williams Racing   \n",
       "\n",
       "      position  position_id position_abbreviation  price  \\\n",
       "0  Constructor            2                    CR   26.7   \n",
       "1  Constructor            2                    CR    6.5   \n",
       "\n",
       "                           current_price_change_info status  injured  ...  \\\n",
       "0  {'current_selection_count': 61840, 'current_se...   None    False  ...   \n",
       "1  {'current_selection_count': 9606, 'current_sel...   None    False  ...   \n",
       "\n",
       "  driver_data                                   constructor_data born_at  \\\n",
       "0        None  {'best_finish': 1, 'best_finish_count': 239, '...    None   \n",
       "1        None  {'best_finish': 1, 'best_finish_count': 114, '...    None   \n",
       "\n",
       "                                       season_prices  \\\n",
       "0  [{'game_period_id': 1, 'price': 27.4}, {'game_...   \n",
       "1  [{'game_period_id': 1, 'price': 6.5}, {'game_p...   \n",
       "\n",
       "   num_fixtures_in_gameweek  has_fixture display_name  external_id  \\\n",
       "0                         2         True      Ferrari   526:59:FER   \n",
       "1                         2         True     Williams  481:172:WIL   \n",
       "\n",
       "                                       profile_image     misc_image  \n",
       "0  {'url': 'https://f1imageuploads.s3.amazonaws.c...  {'url': None}  \n",
       "1  {'url': 'https://f1imageuploads.s3.amazonaws.c...  {'url': None}  \n",
       "\n",
       "[2 rows x 37 columns]"
      ]
     },
     "execution_count": 3,
     "metadata": {},
     "output_type": "execute_result"
    }
   ],
   "source": [
    "cost = pd.DataFrame(r.json()['players'] )\n",
    "cost = cost.set_index('id').reset_index(drop=True)\n",
    "cost.head(2)"
   ]
  },
  {
   "cell_type": "code",
   "execution_count": 4,
   "metadata": {},
   "outputs": [
    {
     "data": {
      "text/plain": [
       "Index(['first_name', 'last_name', 'team_name', 'position', 'position_id',\n",
       "       'position_abbreviation', 'price', 'current_price_change_info', 'status',\n",
       "       'injured', 'injury_type', 'banned', 'ban_type',\n",
       "       'streak_events_progress', 'chance_of_playing', 'picked_percentage',\n",
       "       'team_abbreviation', 'team_id', 'headshot', 'known_name',\n",
       "       'jersey_image', 'score', 'humanize_status', 'shirt_number', 'country',\n",
       "       'is_constructor', 'season_score', 'driver_data', 'constructor_data',\n",
       "       'born_at', 'season_prices', 'num_fixtures_in_gameweek', 'has_fixture',\n",
       "       'display_name', 'external_id', 'profile_image', 'misc_image'],\n",
       "      dtype='object')"
      ]
     },
     "execution_count": 4,
     "metadata": {},
     "output_type": "execute_result"
    }
   ],
   "source": [
    "cost.columns"
   ]
  },
  {
   "cell_type": "code",
   "execution_count": 5,
   "metadata": {},
   "outputs": [],
   "source": [
    "cost['q_top_10'] = cost['streak_events_progress'].apply(lambda x: x['top_ten_in_a_row_qualifying_progress'])"
   ]
  },
  {
   "cell_type": "code",
   "execution_count": 17,
   "metadata": {},
   "outputs": [],
   "source": [
    "cost['q_top_10'] = cost['q_top_10'].astype('float')"
   ]
  },
  {
   "cell_type": "markdown",
   "metadata": {},
   "source": [
    "Get 2019 data and merge with latest data to get final data"
   ]
  },
  {
   "cell_type": "code",
   "execution_count": 6,
   "metadata": {},
   "outputs": [],
   "source": [
    "driver = pd.read_pickle('../2019_Driver_Points.pickle')\n",
    "constructor = pd.read_pickle('../2019_Constructor_Points.pickle')"
   ]
  },
  {
   "cell_type": "code",
   "execution_count": 7,
   "metadata": {},
   "outputs": [],
   "source": [
    "cost.loc[cost.position=='Driver', 'display_name']=cost[cost.position=='Driver']['display_name'].str.replace(' ', '')"
   ]
  },
  {
   "cell_type": "code",
   "execution_count": 18,
   "metadata": {},
   "outputs": [],
   "source": [
    "driver_data = cost[['display_name','position','price', 'season_score', 'team_abbreviation', 'q_top_10']][cost.position=='Driver'].merge(\n",
    "    driver[['Name', 'AvgPoints']],\n",
    "    left_on = 'display_name',\n",
    "    right_on = 'Name',\n",
    "    how='left'\n",
    ").drop(columns=['Name'])\n",
    "driver_data['AvgPoints'] = driver_data.AvgPoints.fillna(0)"
   ]
  },
  {
   "cell_type": "code",
   "execution_count": 19,
   "metadata": {},
   "outputs": [],
   "source": [
    "constructor_data = cost[['display_name', 'position','team_abbreviation', 'price', 'season_score', 'q_top_10']][cost.position=='Constructor'].merge(\n",
    "    constructor[['Constructor','team_abbreviation', 'AverageCon']],\n",
    "    on='team_abbreviation',\n",
    "    how='left'\n",
    ").drop(columns=['Constructor']).rename(\n",
    "    columns={\n",
    "        'AverageCon': 'AvgPoints',\n",
    "    }\n",
    ")\n",
    "constructor_data['AvgPoints'] = constructor_data.AvgPoints.fillna(0)"
   ]
  },
  {
   "cell_type": "code",
   "execution_count": 20,
   "metadata": {},
   "outputs": [],
   "source": [
    "data = pd.concat(\n",
    "    [constructor_data, driver_data]\n",
    ").drop(columns=['team_abbreviation']).reset_index(drop=True)"
   ]
  },
  {
   "cell_type": "code",
   "execution_count": 21,
   "metadata": {},
   "outputs": [
    {
     "data": {
      "text/html": [
       "<div>\n",
       "<style scoped>\n",
       "    .dataframe tbody tr th:only-of-type {\n",
       "        vertical-align: middle;\n",
       "    }\n",
       "\n",
       "    .dataframe tbody tr th {\n",
       "        vertical-align: top;\n",
       "    }\n",
       "\n",
       "    .dataframe thead th {\n",
       "        text-align: right;\n",
       "    }\n",
       "</style>\n",
       "<table border=\"1\" class=\"dataframe\">\n",
       "  <thead>\n",
       "    <tr style=\"text-align: right;\">\n",
       "      <th></th>\n",
       "      <th>display_name</th>\n",
       "      <th>position</th>\n",
       "      <th>price</th>\n",
       "      <th>season_score</th>\n",
       "      <th>q_top_10</th>\n",
       "      <th>AvgPoints</th>\n",
       "    </tr>\n",
       "  </thead>\n",
       "  <tbody>\n",
       "    <tr>\n",
       "      <th>0</th>\n",
       "      <td>Ferrari</td>\n",
       "      <td>Constructor</td>\n",
       "      <td>26.7</td>\n",
       "      <td>48.0</td>\n",
       "      <td>0.0</td>\n",
       "      <td>45.8</td>\n",
       "    </tr>\n",
       "    <tr>\n",
       "      <th>1</th>\n",
       "      <td>Williams</td>\n",
       "      <td>Constructor</td>\n",
       "      <td>6.5</td>\n",
       "      <td>15.0</td>\n",
       "      <td>0.0</td>\n",
       "      <td>11.1</td>\n",
       "    </tr>\n",
       "  </tbody>\n",
       "</table>\n",
       "</div>"
      ],
      "text/plain": [
       "  display_name     position  price  season_score  q_top_10  AvgPoints\n",
       "0      Ferrari  Constructor   26.7          48.0       0.0       45.8\n",
       "1     Williams  Constructor    6.5          15.0       0.0       11.1"
      ]
     },
     "execution_count": 21,
     "metadata": {},
     "output_type": "execute_result"
    }
   ],
   "source": [
    "data.head(2)"
   ]
  },
  {
   "cell_type": "markdown",
   "metadata": {},
   "source": [
    "standardise variables"
   ]
  },
  {
   "cell_type": "code",
   "execution_count": 22,
   "metadata": {},
   "outputs": [],
   "source": [
    "def z_score(series):\n",
    "    mean = series.mean()\n",
    "    std = series.std()\n",
    "    \n",
    "    return (series - mean) / std"
   ]
  },
  {
   "cell_type": "code",
   "execution_count": 23,
   "metadata": {},
   "outputs": [],
   "source": [
    "data['season_score'] = z_score(data['season_score'])\n",
    "data['q_top_10'] = z_score(data['q_top_10'])\n",
    "data['AvgPoints']  = z_score(data['AvgPoints'])"
   ]
  },
  {
   "cell_type": "markdown",
   "metadata": {},
   "source": [
    "## Optimisation"
   ]
  },
  {
   "cell_type": "markdown",
   "metadata": {},
   "source": [
    "Create decision variables"
   ]
  },
  {
   "cell_type": "code",
   "execution_count": 24,
   "metadata": {},
   "outputs": [],
   "source": [
    "constructor_var = LpVariable.dict(\n",
    "    'Constructor', \n",
    "    data['display_name'][data.position=='Constructor'], \n",
    "    0, \n",
    "    cat='Binary'\n",
    ")\n",
    "driver_var = LpVariable.dict(\n",
    "    'Driver', \n",
    "    data['display_name'][data.position=='Driver'], \n",
    "    0, \n",
    "    cat='Binary'\n",
    ")"
   ]
  },
  {
   "cell_type": "code",
   "execution_count": 25,
   "metadata": {},
   "outputs": [],
   "source": [
    "current_team = constructor_var['Mercedes'] + driver_var['L.Hamilton'] + driver_var['K.Raikkonen'] + driver_var['S.Perez'] + driver_var['G.Russell'] + driver_var['D.Kvyat']"
   ]
  },
  {
   "cell_type": "markdown",
   "metadata": {},
   "source": [
    "Define the problem"
   ]
  },
  {
   "cell_type": "code",
   "execution_count": 26,
   "metadata": {},
   "outputs": [],
   "source": [
    "prob = LpProblem('Fantasty_F1_Week_2', LpMaximize)\n",
    "\n",
    "# Objective function\n",
    "driver_rewards = []\n",
    "constructor_rewards = []\n",
    "\n",
    "driver_coef = list(\n",
    "    data[data.position=='Driver'].eval(\n",
    "        '0.3*AvgPoints + 0.25*q_top_10 + 0.2*season_score'\n",
    "    )\n",
    ")\n",
    "constructor_coef = list(\n",
    "    data[data.position=='Constructor'].eval(\n",
    "        '0.3*AvgPoints + 0.25*q_top_10 + 0.2*season_score'\n",
    "    )\n",
    ")\n",
    "driver_rewards += lpSum( \n",
    "    [a*b for a, b in zip(driver_coef, driver_var.values()) ]\n",
    ")\n",
    "constructor_rewards += lpSum( \n",
    "    [a*b for a, b in zip(constructor_coef, constructor_var.values()) ]\n",
    ")\n",
    "\n",
    "prob += driver_rewards + constructor_rewards, 'Total Points Scored'\n",
    "\n",
    "# Constraints\n",
    "prob += lpSum(driver_var) == 5, 'Max Number of Drivers'\n",
    "prob += lpSum(constructor_var) == 1, 'Max Number of Constructor'\n",
    "prob += current_team == 4, 'Max 2 changes'\n",
    "\n",
    "driver_costs = []\n",
    "constructor_costs = []\n",
    "driver_price = list(data[data.position=='Driver'].price)\n",
    "constructor_price = list(data[data.position=='Constructor'].price)\n",
    "\n",
    "driver_costs += lpSum(\n",
    "    [a*b for a,b in zip(driver_price, driver_var.values())]\n",
    ")\n",
    "constructor_costs += lpSum(\n",
    "    [a*b for a,b in zip(constructor_price, constructor_var.values())]\n",
    ")\n",
    "\n",
    "prob += driver_costs + constructor_costs <= 100, 'Total Cost of Team'"
   ]
  },
  {
   "cell_type": "code",
   "execution_count": 27,
   "metadata": {},
   "outputs": [
    {
     "data": {
      "text/plain": [
       "1"
      ]
     },
     "execution_count": 27,
     "metadata": {},
     "output_type": "execute_result"
    }
   ],
   "source": [
    "prob.solve()"
   ]
  },
  {
   "cell_type": "code",
   "execution_count": 28,
   "metadata": {},
   "outputs": [
    {
     "name": "stdout",
     "output_type": "stream",
     "text": [
      "Status: Optimal\n"
     ]
    }
   ],
   "source": [
    "print(\"Status:\", LpStatus[prob.status])"
   ]
  },
  {
   "cell_type": "code",
   "execution_count": 29,
   "metadata": {},
   "outputs": [],
   "source": [
    "def summary(prob):\n",
    "    div = '---------------------------------------\\n'\n",
    "    print(\"Variables:\\n\")\n",
    "    score = str(prob.objective)\n",
    "    constraints = [str(const) for const in prob.constraints.values()]\n",
    "    for v in prob.variables():\n",
    "        score = score.replace(v.name, str(v.varValue))\n",
    "        constraints = [const.replace(v.name, str(v.varValue)) for const in constraints]\n",
    "        if v.varValue != 0:\n",
    "            print(v.name, \"=\", v.varValue)\n",
    "    print(div)\n",
    "    print(\"Constraints:\")\n",
    "    for constraint in constraints:\n",
    "        constraint_pretty = \" + \".join(re.findall(\"[0-9\\.]*\\*1.0\", constraint))\n",
    "        if constraint_pretty != \"\":\n",
    "            print(\"{} = {}\".format(constraint_pretty, eval(constraint_pretty)))\n",
    "    print(div)\n",
    "    print(\"Score:\")\n",
    "    score_pretty = \" + \".join(re.findall(\"[0-9\\.]+\\*1.0\", score))\n",
    "    print(\"{} = {}\".format(score_pretty, eval(score)))"
   ]
  },
  {
   "cell_type": "code",
   "execution_count": 30,
   "metadata": {},
   "outputs": [
    {
     "name": "stdout",
     "output_type": "stream",
     "text": [
      "Variables:\n",
      "\n",
      "Constructor_Mercedes = 1.0\n",
      "Driver_A.Giovinazzi = 1.0\n",
      "Driver_G.Russell = 1.0\n",
      "Driver_L.Hamilton = 1.0\n",
      "Driver_L.Norris = 1.0\n",
      "Driver_S.Perez = 1.0\n",
      "---------------------------------------\n",
      "\n",
      "Constraints:\n",
      "32.2*1.0 + 8.1*1.0 + 5.9*1.0 + 31.2*1.0 + 12.5*1.0 + 9.7*1.0 = 99.60000000000001\n",
      "---------------------------------------\n",
      "\n",
      "Score:\n",
      "1.8681219723912368*1.0 + 0.49058231028966415*1.0 + 0.6769380979792454*1.0 + 0.9501987631835171*1.0 + 0.2544055815254332*1.0 + 0.2319732783835322*1.0 = 1.6732326304477454\n"
     ]
    }
   ],
   "source": [
    "summary(prob)"
   ]
  },
  {
   "cell_type": "markdown",
   "metadata": {},
   "source": [
    "# END"
   ]
  }
 ],
 "metadata": {
  "kernelspec": {
   "display_name": "Python 3",
   "language": "python",
   "name": "python3"
  },
  "language_info": {
   "codemirror_mode": {
    "name": "ipython",
    "version": 3
   },
   "file_extension": ".py",
   "mimetype": "text/x-python",
   "name": "python",
   "nbconvert_exporter": "python",
   "pygments_lexer": "ipython3",
   "version": "3.6.8"
  }
 },
 "nbformat": 4,
 "nbformat_minor": 4
}
